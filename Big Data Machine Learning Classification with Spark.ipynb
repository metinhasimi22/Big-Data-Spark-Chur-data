{
 "cells": [
  {
   "cell_type": "markdown",
   "id": "c861eb13",
   "metadata": {},
   "source": [
    "# Big Data Machine Learning Classification with Spark\n",
    "\n",
    "<img src='https://datascientest.com/es/files/2024/04/formation-pyspark-python-768x380-1.jpeg'>\n",
    "\n",
    "Big Data Churn prediction with Spark\n",
    "Please use pyspark machine learning package to predict customers' behavior.\n",
    "\n",
    "from pyspark.ml.classification import GBTClassifier"
   ]
  },
  {
   "cell_type": "code",
   "execution_count": 1,
   "id": "ec180739",
   "metadata": {},
   "outputs": [],
   "source": [
    "import pandas as pd\n",
    "import warnings \n",
    "warnings.filterwarnings('ignore')\n",
    "from pyspark.sql import SparkSession\n",
    "from pyspark.ml.feature import VectorAssembler\n",
    "from pyspark.ml.classification import LogisticRegression\n",
    "from pyspark.ml.evaluation import BinaryClassificationEvaluator\n",
    "from pyspark.ml.tuning import ParamGridBuilder, CrossValidator"
   ]
  },
  {
   "cell_type": "code",
   "execution_count": 2,
   "id": "bc9f8bf2",
   "metadata": {
    "scrolled": true
   },
   "outputs": [],
   "source": [
    "df = pd.read_csv(\"churn.csv\")"
   ]
  },
  {
   "cell_type": "code",
   "execution_count": 3,
   "id": "6ca4a57b",
   "metadata": {},
   "outputs": [
    {
     "data": {
      "text/plain": [
       "Unnamed: 0         0\n",
       "Names              0\n",
       "Age                0\n",
       "Total_Purchase     0\n",
       "Account_Manager    0\n",
       "Years              0\n",
       "Num_Sites          0\n",
       "Churn              0\n",
       "dtype: int64"
      ]
     },
     "execution_count": 3,
     "metadata": {},
     "output_type": "execute_result"
    }
   ],
   "source": [
    "df.isnull().sum()"
   ]
  },
  {
   "cell_type": "code",
   "execution_count": 4,
   "id": "50619195",
   "metadata": {},
   "outputs": [
    {
     "data": {
      "text/html": [
       "<div>\n",
       "<style scoped>\n",
       "    .dataframe tbody tr th:only-of-type {\n",
       "        vertical-align: middle;\n",
       "    }\n",
       "\n",
       "    .dataframe tbody tr th {\n",
       "        vertical-align: top;\n",
       "    }\n",
       "\n",
       "    .dataframe thead th {\n",
       "        text-align: right;\n",
       "    }\n",
       "</style>\n",
       "<table border=\"1\" class=\"dataframe\">\n",
       "  <thead>\n",
       "    <tr style=\"text-align: right;\">\n",
       "      <th></th>\n",
       "      <th>Unnamed: 0</th>\n",
       "      <th>Names</th>\n",
       "      <th>Age</th>\n",
       "      <th>Total_Purchase</th>\n",
       "      <th>Account_Manager</th>\n",
       "      <th>Years</th>\n",
       "      <th>Num_Sites</th>\n",
       "      <th>Churn</th>\n",
       "    </tr>\n",
       "  </thead>\n",
       "  <tbody>\n",
       "    <tr>\n",
       "      <th>0</th>\n",
       "      <td>0</td>\n",
       "      <td>Cameron Williams</td>\n",
       "      <td>42.0</td>\n",
       "      <td>11066.80</td>\n",
       "      <td>0</td>\n",
       "      <td>7.22</td>\n",
       "      <td>8.0</td>\n",
       "      <td>1</td>\n",
       "    </tr>\n",
       "    <tr>\n",
       "      <th>1</th>\n",
       "      <td>1</td>\n",
       "      <td>Kevin Mueller</td>\n",
       "      <td>41.0</td>\n",
       "      <td>11916.22</td>\n",
       "      <td>0</td>\n",
       "      <td>6.50</td>\n",
       "      <td>11.0</td>\n",
       "      <td>1</td>\n",
       "    </tr>\n",
       "    <tr>\n",
       "      <th>2</th>\n",
       "      <td>2</td>\n",
       "      <td>Eric Lozano</td>\n",
       "      <td>38.0</td>\n",
       "      <td>12884.75</td>\n",
       "      <td>0</td>\n",
       "      <td>6.67</td>\n",
       "      <td>12.0</td>\n",
       "      <td>1</td>\n",
       "    </tr>\n",
       "    <tr>\n",
       "      <th>3</th>\n",
       "      <td>3</td>\n",
       "      <td>Phillip White</td>\n",
       "      <td>42.0</td>\n",
       "      <td>8010.76</td>\n",
       "      <td>0</td>\n",
       "      <td>6.71</td>\n",
       "      <td>10.0</td>\n",
       "      <td>1</td>\n",
       "    </tr>\n",
       "    <tr>\n",
       "      <th>4</th>\n",
       "      <td>4</td>\n",
       "      <td>Cynthia Norton</td>\n",
       "      <td>37.0</td>\n",
       "      <td>9191.58</td>\n",
       "      <td>0</td>\n",
       "      <td>5.56</td>\n",
       "      <td>9.0</td>\n",
       "      <td>1</td>\n",
       "    </tr>\n",
       "  </tbody>\n",
       "</table>\n",
       "</div>"
      ],
      "text/plain": [
       "   Unnamed: 0             Names   Age  Total_Purchase  Account_Manager  Years  \\\n",
       "0           0  Cameron Williams  42.0        11066.80                0   7.22   \n",
       "1           1     Kevin Mueller  41.0        11916.22                0   6.50   \n",
       "2           2       Eric Lozano  38.0        12884.75                0   6.67   \n",
       "3           3     Phillip White  42.0         8010.76                0   6.71   \n",
       "4           4    Cynthia Norton  37.0         9191.58                0   5.56   \n",
       "\n",
       "   Num_Sites  Churn  \n",
       "0        8.0      1  \n",
       "1       11.0      1  \n",
       "2       12.0      1  \n",
       "3       10.0      1  \n",
       "4        9.0      1  "
      ]
     },
     "execution_count": 4,
     "metadata": {},
     "output_type": "execute_result"
    }
   ],
   "source": [
    "df.head()"
   ]
  },
  {
   "cell_type": "code",
   "execution_count": 5,
   "id": "b4680d9a",
   "metadata": {},
   "outputs": [
    {
     "data": {
      "text/plain": [
       "(900, 8)"
      ]
     },
     "execution_count": 5,
     "metadata": {},
     "output_type": "execute_result"
    }
   ],
   "source": [
    "df.shape"
   ]
  },
  {
   "cell_type": "code",
   "execution_count": 6,
   "id": "8aab7167",
   "metadata": {},
   "outputs": [
    {
     "data": {
      "text/plain": [
       "Index(['Unnamed: 0', 'Names', 'Age', 'Total_Purchase', 'Account_Manager',\n",
       "       'Years', 'Num_Sites', 'Churn'],\n",
       "      dtype='object')"
      ]
     },
     "execution_count": 6,
     "metadata": {},
     "output_type": "execute_result"
    }
   ],
   "source": [
    "df.columns"
   ]
  },
  {
   "cell_type": "code",
   "execution_count": 7,
   "id": "62464475",
   "metadata": {},
   "outputs": [],
   "source": [
    "df=df.drop(['Unnamed: 0', 'Names'],axis=1)"
   ]
  },
  {
   "cell_type": "code",
   "execution_count": 8,
   "id": "49524b37",
   "metadata": {},
   "outputs": [],
   "source": [
    "for i in df.columns:\n",
    "    df[i]=df[i].astype(float)"
   ]
  },
  {
   "cell_type": "code",
   "execution_count": 9,
   "id": "738c745b",
   "metadata": {},
   "outputs": [
    {
     "name": "stdout",
     "output_type": "stream",
     "text": [
      "<class 'pandas.core.frame.DataFrame'>\n",
      "RangeIndex: 900 entries, 0 to 899\n",
      "Data columns (total 6 columns):\n",
      " #   Column           Non-Null Count  Dtype  \n",
      "---  ------           --------------  -----  \n",
      " 0   Age              900 non-null    float64\n",
      " 1   Total_Purchase   900 non-null    float64\n",
      " 2   Account_Manager  900 non-null    float64\n",
      " 3   Years            900 non-null    float64\n",
      " 4   Num_Sites        900 non-null    float64\n",
      " 5   Churn            900 non-null    float64\n",
      "dtypes: float64(6)\n",
      "memory usage: 42.3 KB\n"
     ]
    }
   ],
   "source": [
    "df.info()"
   ]
  },
  {
   "cell_type": "code",
   "execution_count": 11,
   "id": "f3d53ab6",
   "metadata": {},
   "outputs": [
    {
     "data": {
      "image/png": "[encoded data removed]",
      "text/plain": [
       "<Figure size 640x480 with 1 Axes>"
      ]
     },
     "metadata": {},
     "output_type": "display_data"
    }
   ],
   "source": [
    "import seaborn as sns\n",
    "import matplotlib.pyplot as plt\n",
    "\n",
    "sns.countplot(x='Churn', data=df, palette='viridis')\n",
    "plt.title('Churn')\n",
    "plt.show()"
   ]
  },
  {
   "cell_type": "code",
   "execution_count": 12,
   "id": "7de75377",
   "metadata": {},
   "outputs": [
    {
     "data": {
      "text/plain": [
       "Text(0.5, 1.0, ' Corelasyon  ')"
      ]
     },
     "execution_count": 12,
     "metadata": {},
     "output_type": "execute_result"
    },
    {
     "data": {
      "image/png": "[encoded data removed]",
      "text/plain": [
       "<Figure size 640x480 with 2 Axes>"
      ]
     },
     "metadata": {},
     "output_type": "display_data"
    }
   ],
   "source": [
    "import seaborn as sns\n",
    "sns.heatmap(df.corr(numeric_only=True),annot=True)\n",
    "import matplotlib.pyplot as plt \n",
    "plt.title(' Corelasyon  ')"
   ]
  },
  {
   "cell_type": "code",
   "execution_count": 13,
   "id": "a1cdadc6",
   "metadata": {},
   "outputs": [],
   "source": [
    "# datayı temizlemiş olduk \n",
    "df.to_csv('new_data.csv')"
   ]
  },
  {
   "cell_type": "markdown",
   "id": "21396ec7",
   "metadata": {},
   "source": [
    "# Spark oluşturma "
   ]
  },
  {
   "cell_type": "code",
   "execution_count": 14,
   "id": "33fdf42d",
   "metadata": {},
   "outputs": [],
   "source": [
    "spark = SparkSession.builder \\\n",
    "    .appName(\"Churn Prediction\") \\\n",
    "    .getOrCreate()"
   ]
  },
  {
   "cell_type": "code",
   "execution_count": 15,
   "id": "4c442d07",
   "metadata": {},
   "outputs": [],
   "source": [
    "df = spark.read.csv(\"new_data.csv\", header=True, inferSchema=True)"
   ]
  },
  {
   "cell_type": "code",
   "execution_count": 16,
   "id": "eb9a59e7",
   "metadata": {},
   "outputs": [
    {
     "name": "stdout",
     "output_type": "stream",
     "text": [
      "+---+----+--------------+---------------+-----+---------+-----+\n",
      "|_c0| Age|Total_Purchase|Account_Manager|Years|Num_Sites|Churn|\n",
      "+---+----+--------------+---------------+-----+---------+-----+\n",
      "|  0|42.0|       11066.8|            0.0| 7.22|      8.0|  1.0|\n",
      "|  1|41.0|      11916.22|            0.0|  6.5|     11.0|  1.0|\n",
      "|  2|38.0|      12884.75|            0.0| 6.67|     12.0|  1.0|\n",
      "|  3|42.0|       8010.76|            0.0| 6.71|     10.0|  1.0|\n",
      "|  4|37.0|       9191.58|            0.0| 5.56|      9.0|  1.0|\n",
      "+---+----+--------------+---------------+-----+---------+-----+\n",
      "only showing top 5 rows\n",
      "\n"
     ]
    }
   ],
   "source": [
    "df.show(5)"
   ]
  },
  {
   "cell_type": "code",
   "execution_count": 17,
   "id": "898047e8",
   "metadata": {},
   "outputs": [
    {
     "data": {
      "text/html": [
       "<div>\n",
       "<style scoped>\n",
       "    .dataframe tbody tr th:only-of-type {\n",
       "        vertical-align: middle;\n",
       "    }\n",
       "\n",
       "    .dataframe tbody tr th {\n",
       "        vertical-align: top;\n",
       "    }\n",
       "\n",
       "    .dataframe thead th {\n",
       "        text-align: right;\n",
       "    }\n",
       "</style>\n",
       "<table border=\"1\" class=\"dataframe\">\n",
       "  <thead>\n",
       "    <tr style=\"text-align: right;\">\n",
       "      <th></th>\n",
       "      <th>0</th>\n",
       "      <th>1</th>\n",
       "      <th>2</th>\n",
       "      <th>3</th>\n",
       "      <th>4</th>\n",
       "    </tr>\n",
       "  </thead>\n",
       "  <tbody>\n",
       "    <tr>\n",
       "      <th>summary</th>\n",
       "      <td>count</td>\n",
       "      <td>mean</td>\n",
       "      <td>stddev</td>\n",
       "      <td>min</td>\n",
       "      <td>max</td>\n",
       "    </tr>\n",
       "    <tr>\n",
       "      <th>_c0</th>\n",
       "      <td>900</td>\n",
       "      <td>449.5</td>\n",
       "      <td>259.95191863111916</td>\n",
       "      <td>0</td>\n",
       "      <td>899</td>\n",
       "    </tr>\n",
       "    <tr>\n",
       "      <th>Age</th>\n",
       "      <td>900</td>\n",
       "      <td>41.81666666666667</td>\n",
       "      <td>6.127560416916251</td>\n",
       "      <td>22.0</td>\n",
       "      <td>65.0</td>\n",
       "    </tr>\n",
       "    <tr>\n",
       "      <th>Total_Purchase</th>\n",
       "      <td>900</td>\n",
       "      <td>10062.82403333334</td>\n",
       "      <td>2408.644531858096</td>\n",
       "      <td>100.0</td>\n",
       "      <td>18026.01</td>\n",
       "    </tr>\n",
       "    <tr>\n",
       "      <th>Account_Manager</th>\n",
       "      <td>900</td>\n",
       "      <td>0.4811111111111111</td>\n",
       "      <td>0.4999208935073339</td>\n",
       "      <td>0.0</td>\n",
       "      <td>1.0</td>\n",
       "    </tr>\n",
       "    <tr>\n",
       "      <th>Years</th>\n",
       "      <td>900</td>\n",
       "      <td>5.27315555555555</td>\n",
       "      <td>1.274449013194616</td>\n",
       "      <td>1.0</td>\n",
       "      <td>9.15</td>\n",
       "    </tr>\n",
       "    <tr>\n",
       "      <th>Num_Sites</th>\n",
       "      <td>900</td>\n",
       "      <td>8.587777777777777</td>\n",
       "      <td>1.7648355920350969</td>\n",
       "      <td>3.0</td>\n",
       "      <td>14.0</td>\n",
       "    </tr>\n",
       "    <tr>\n",
       "      <th>Churn</th>\n",
       "      <td>900</td>\n",
       "      <td>0.16666666666666666</td>\n",
       "      <td>0.3728852122772358</td>\n",
       "      <td>0.0</td>\n",
       "      <td>1.0</td>\n",
       "    </tr>\n",
       "  </tbody>\n",
       "</table>\n",
       "</div>"
      ],
      "text/plain": [
       "                     0                    1                   2      3  \\\n",
       "summary          count                 mean              stddev    min   \n",
       "_c0                900                449.5  259.95191863111916      0   \n",
       "Age                900    41.81666666666667   6.127560416916251   22.0   \n",
       "Total_Purchase     900    10062.82403333334   2408.644531858096  100.0   \n",
       "Account_Manager    900   0.4811111111111111  0.4999208935073339    0.0   \n",
       "Years              900     5.27315555555555   1.274449013194616    1.0   \n",
       "Num_Sites          900    8.587777777777777  1.7648355920350969    3.0   \n",
       "Churn              900  0.16666666666666666  0.3728852122772358    0.0   \n",
       "\n",
       "                        4  \n",
       "summary               max  \n",
       "_c0                   899  \n",
       "Age                  65.0  \n",
       "Total_Purchase   18026.01  \n",
       "Account_Manager       1.0  \n",
       "Years                9.15  \n",
       "Num_Sites            14.0  \n",
       "Churn                 1.0  "
      ]
     },
     "execution_count": 17,
     "metadata": {},
     "output_type": "execute_result"
    }
   ],
   "source": [
    "df.describe().toPandas().T"
   ]
  },
  {
   "cell_type": "code",
   "execution_count": 18,
   "id": "55209b61",
   "metadata": {},
   "outputs": [
    {
     "name": "stdout",
     "output_type": "stream",
     "text": [
      "root\n",
      " |-- _c0: integer (nullable = true)\n",
      " |-- Age: double (nullable = true)\n",
      " |-- Total_Purchase: double (nullable = true)\n",
      " |-- Account_Manager: double (nullable = true)\n",
      " |-- Years: double (nullable = true)\n",
      " |-- Num_Sites: double (nullable = true)\n",
      " |-- Churn: double (nullable = true)\n",
      "\n",
      "+---+----+--------------+---------------+-----+---------+-----+\n",
      "|_c0| Age|Total_Purchase|Account_Manager|Years|Num_Sites|Churn|\n",
      "+---+----+--------------+---------------+-----+---------+-----+\n",
      "|  0|42.0|       11066.8|            0.0| 7.22|      8.0|  1.0|\n",
      "|  1|41.0|      11916.22|            0.0|  6.5|     11.0|  1.0|\n",
      "|  2|38.0|      12884.75|            0.0| 6.67|     12.0|  1.0|\n",
      "|  3|42.0|       8010.76|            0.0| 6.71|     10.0|  1.0|\n",
      "|  4|37.0|       9191.58|            0.0| 5.56|      9.0|  1.0|\n",
      "+---+----+--------------+---------------+-----+---------+-----+\n",
      "only showing top 5 rows\n",
      "\n"
     ]
    }
   ],
   "source": [
    "#  burada datamızın ilk değerlerini görüyoruz \n",
    "df.printSchema()\n",
    "df.show(5)"
   ]
  },
  {
   "cell_type": "code",
   "execution_count": 19,
   "id": "a10387b8",
   "metadata": {},
   "outputs": [
    {
     "data": {
      "text/plain": [
       "900"
      ]
     },
     "execution_count": 19,
     "metadata": {},
     "output_type": "execute_result"
    }
   ],
   "source": [
    "#Tüm verileri eşsiz mi?\n",
    "df.distinct().count()"
   ]
  },
  {
   "cell_type": "code",
   "execution_count": 20,
   "id": "f8571e3d",
   "metadata": {},
   "outputs": [
    {
     "data": {
      "text/plain": [
       "['_c0',\n",
       " 'Age',\n",
       " 'Total_Purchase',\n",
       " 'Account_Manager',\n",
       " 'Years',\n",
       " 'Num_Sites',\n",
       " 'Churn']"
      ]
     },
     "execution_count": 20,
     "metadata": {},
     "output_type": "execute_result"
    }
   ],
   "source": [
    "df.columns"
   ]
  },
  {
   "cell_type": "markdown",
   "id": "7cffff23",
   "metadata": {},
   "source": [
    "#### VectorAssembler kullanarak modelin öğrenmesi için gerekli özellikleri bir vektör haline getiririz."
   ]
  },
  {
   "cell_type": "code",
   "execution_count": 21,
   "id": "5af57bac",
   "metadata": {},
   "outputs": [],
   "source": [
    "assembler = VectorAssembler(\n",
    "    inputCols=[\"Age\", \"Total_Purchase\", \"Account_Manager\", \"Years\", \"Num_Sites\"],\n",
    "    outputCol=\"features\"\n",
    ")\n",
    "output = assembler.transform(df)\n"
   ]
  },
  {
   "cell_type": "markdown",
   "id": "b6c83ee8",
   "metadata": {},
   "source": [
    "##  Modeling"
   ]
  },
  {
   "cell_type": "code",
   "execution_count": 22,
   "id": "c8655e37",
   "metadata": {},
   "outputs": [],
   "source": [
    "train_data, test_data = output.randomSplit([0.7, 0.3], seed=42)"
   ]
  },
  {
   "cell_type": "code",
   "execution_count": 23,
   "id": "a15cb925",
   "metadata": {},
   "outputs": [],
   "source": [
    "lr = LogisticRegression(labelCol=\"Churn\", featuresCol=\"features\")\n",
    "lr_model = lr.fit(train_data)"
   ]
  },
  {
   "cell_type": "code",
   "execution_count": 24,
   "id": "9e09d925",
   "metadata": {},
   "outputs": [
    {
     "name": "stdout",
     "output_type": "stream",
     "text": [
      "+-----+----------+--------------------+\n",
      "|Churn|prediction|         probability|\n",
      "+-----+----------+--------------------+\n",
      "|  1.0|       1.0|[0.14283353178499...|\n",
      "|  1.0|       1.0|[0.40715631856873...|\n",
      "|  1.0|       1.0|[0.35168240900934...|\n",
      "|  1.0|       1.0|[0.23456527636123...|\n",
      "|  1.0|       1.0|[0.09454005585382...|\n",
      "|  1.0|       0.0|[0.65246656194400...|\n",
      "|  1.0|       1.0|[0.10126581661311...|\n",
      "|  1.0|       0.0|[0.94845911266851...|\n",
      "|  1.0|       1.0|[0.19299434172898...|\n",
      "|  1.0|       1.0|[0.16027893739171...|\n",
      "+-----+----------+--------------------+\n",
      "only showing top 10 rows\n",
      "\n"
     ]
    }
   ],
   "source": [
    "predictions = lr_model.transform(test_data)\n",
    "predictions.select(\"Churn\", \"prediction\", \"probability\").show(10)"
   ]
  },
  {
   "cell_type": "code",
   "execution_count": 25,
   "id": "c61cf584",
   "metadata": {},
   "outputs": [
    {
     "name": "stdout",
     "output_type": "stream",
     "text": [
      "Accuracy: 0.9137409904673339\n"
     ]
    }
   ],
   "source": [
    "evaluator = BinaryClassificationEvaluator(labelCol=\"Churn\")\n",
    "accuracy = evaluator.evaluate(predictions)\n",
    "print(f\"Accuracy: {accuracy}\")"
   ]
  },
  {
   "cell_type": "markdown",
   "id": "fcba8ff1",
   "metadata": {},
   "source": [
    "### Parametre Ayarlama ve Modeli İyileştirme:\n",
    "#### CrossValidator kullanarak modelin hiperparametrelerini optimize ederiz."
   ]
  },
  {
   "cell_type": "code",
   "execution_count": 26,
   "id": "e3a22674",
   "metadata": {},
   "outputs": [],
   "source": [
    "paramGrid = ParamGridBuilder() \\\n",
    "    .addGrid(lr.regParam, [0.1, 0.01]) \\\n",
    "    .build()\n",
    "\n",
    "crossval = CrossValidator(\n",
    "    estimator=lr,\n",
    "    estimatorParamMaps=paramGrid,\n",
    "    evaluator=evaluator,\n",
    "    numFolds=5\n",
    ")\n",
    "\n",
    "cvModel = crossval.fit(train_data)"
   ]
  },
  {
   "cell_type": "code",
   "execution_count": 27,
   "id": "32c9aa0b",
   "metadata": {},
   "outputs": [
    {
     "name": "stdout",
     "output_type": "stream",
     "text": [
      "Best Model Accuracy: 0.9118809579167645\n"
     ]
    }
   ],
   "source": [
    "bestModel = cvModel.bestModel\n",
    "best_predictions = bestModel.transform(test_data)\n",
    "best_accuracy = evaluator.evaluate(best_predictions)\n",
    "print(f\"Best Model Accuracy: {best_accuracy}\")"
   ]
  },
  {
   "cell_type": "markdown",
   "id": "cd96c05d",
   "metadata": {},
   "source": [
    "#### GBTClassifier: Gradyan artırmalı ağaçlar, daha karmaşık ilişkileri modellemek için kullanılır ve genellikle daha yüksek doğruluk sunar.\n",
    "maxIter: Modelin kaç iterasyon boyunca eğitileceğini belirtir."
   ]
  },
  {
   "cell_type": "code",
   "execution_count": 28,
   "id": "62a28245",
   "metadata": {},
   "outputs": [
    {
     "name": "stdout",
     "output_type": "stream",
     "text": [
      "GBT Model Accuracy: 0.8938037665659146\n"
     ]
    }
   ],
   "source": [
    "from pyspark.ml.classification import GBTClassifier\n",
    "\n",
    "# GBTClassifier'ı tanımlayın\n",
    "gbt = GBTClassifier(labelCol=\"Churn\", featuresCol=\"features\", maxIter=10)\n",
    "\n",
    "# Modeli eğitin\n",
    "gbt_model = gbt.fit(train_data)\n",
    "\n",
    "# Modeli test edin\n",
    "gbt_predictions = gbt_model.transform(test_data)\n",
    "\n",
    "# Modeli değerlendirin\n",
    "gbt_accuracy = evaluator.evaluate(gbt_predictions)\n",
    "print(f\"GBT Model Accuracy: {gbt_accuracy}\")"
   ]
  },
  {
   "cell_type": "code",
   "execution_count": 29,
   "id": "fb9232a2",
   "metadata": {
    "scrolled": true
   },
   "outputs": [
    {
     "data": {
      "text/plain": [
       "<Axes: xlabel='Predicted', ylabel='Actual'>"
      ]
     },
     "execution_count": 29,
     "metadata": {},
     "output_type": "execute_result"
    },
    {
     "data": {
      "image/png": "[encoded data removed]",
      "text/plain": [
       "<Figure size 640x480 with 2 Axes>"
      ]
     },
     "metadata": {},
     "output_type": "display_data"
    }
   ],
   "source": [
    "import numpy as np\n",
    "import pandas as pd\n",
    "predictions_and_labels = gbt_predictions.select(\"prediction\", \"Churn\").toPandas()\n",
    "\n",
    "conf_matrix = pd.crosstab(predictions_and_labels[\"Churn\"], predictions_and_labels[\"prediction\"], rownames=['Actual'], colnames=['Predicted'])\n",
    "sns.heatmap(conf_matrix,annot=True,fmt='.1f')\n"
   ]
  },
  {
   "cell_type": "code",
   "execution_count": 30,
   "id": "d3251cc6",
   "metadata": {},
   "outputs": [
    {
     "name": "stdout",
     "output_type": "stream",
     "text": [
      "              precision    recall  f1-score   support\n",
      "\n",
      "         0.0       0.89      0.95      0.92       187\n",
      "         1.0       0.74      0.54      0.62        46\n",
      "\n",
      "    accuracy                           0.87       233\n",
      "   macro avg       0.81      0.75      0.77       233\n",
      "weighted avg       0.86      0.87      0.86       233\n",
      "\n"
     ]
    }
   ],
   "source": [
    "from sklearn.metrics import classification_report\n",
    "\n",
    "y_true = predictions_and_labels[\"Churn\"].values\n",
    "y_pred = predictions_and_labels[\"prediction\"].values\n",
    "class_report = classification_report(y_true, y_pred)\n",
    "print(class_report)\n"
   ]
  }
 ],
 "metadata": {
  "kernelspec": {
   "display_name": "Python 3 (ipykernel)",
   "language": "python",
   "name": "python3"
  },
  "language_info": {
   "codemirror_mode": {
    "name": "ipython",
    "version": 3
   },
   "file_extension": ".py",
   "mimetype": "text/x-python",
   "name": "python",
   "nbconvert_exporter": "python",
   "pygments_lexer": "ipython3",
   "version": "3.11.7"
  }
 },
 "nbformat": 4,
 "nbformat_minor": 5
}
